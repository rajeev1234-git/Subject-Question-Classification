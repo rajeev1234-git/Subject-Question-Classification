{
 "cells": [
  {
   "cell_type": "markdown",
   "id": "0c38ef6e-a9c8-4093-a947-591803be64d9",
   "metadata": {},
   "source": [
    "# Import all necessaary library"
   ]
  },
  {
   "cell_type": "code",
   "execution_count": 14,
   "id": "94f45abc-98e5-4911-a636-c1812b2a5383",
   "metadata": {},
   "outputs": [],
   "source": [
    "# Import library\n",
    "\n",
    "import pandas as pd\n",
    "import re \n",
    "from sklearn.model_selection import train_test_split\n",
    "import numpy as np\n",
    "from nltk.tokenize import word_tokenize\n",
    "from nltk.corpus import stopwords\n",
    "from textblob.classifiers import NaiveBayesClassifier\n",
    "from sklearn.feature_extraction.text import CountVectorizer,TfidfVectorizer\n",
    "from imblearn.over_sampling import SMOTE\n",
    "from sklearn.linear_model import LogisticRegression"
   ]
  },
  {
   "cell_type": "markdown",
   "id": "a16dd0ed-3e29-49c8-b93e-c0a90e72de6f",
   "metadata": {},
   "source": [
    "# Load dataset using pandas"
   ]
  },
  {
   "cell_type": "code",
   "execution_count": 15,
   "id": "974c33bf-6304-45f3-a887-35085749a289",
   "metadata": {},
   "outputs": [],
   "source": [
    "#Load dataset using pandas\n",
    "df=pd.read_csv(\"d:/subjects-questions.csv\")"
   ]
  },
  {
   "cell_type": "code",
   "execution_count": 16,
   "id": "0bb40e82-3754-41ef-be46-5c68a1887c31",
   "metadata": {},
   "outputs": [],
   "source": [
    "# all type question store in x variable\n",
    "df1=df.head(4500)\n",
    "x=df1.eng"
   ]
  },
  {
   "cell_type": "code",
   "execution_count": 17,
   "id": "b3008c04-b985-45d2-bc9e-8edc4ff48ff9",
   "metadata": {},
   "outputs": [],
   "source": [
    "# Subject name store in y valriable\n",
    "y=df1.Subject"
   ]
  },
  {
   "cell_type": "markdown",
   "id": "df99ccbc-e9f8-44ae-9f49-b0a3e494cb56",
   "metadata": {},
   "source": [
    "# Clean dataset remove punctuation"
   ]
  },
  {
   "cell_type": "code",
   "execution_count": 18,
   "id": "9868f14e-f5ac-4f97-8d90-1610e9aa25f6",
   "metadata": {},
   "outputs": [],
   "source": [
    "#Clean dataset remove puntuation\n",
    "def clean(dec):\n",
    "    x_new=re.sub(\"[^a-z ]\",\"\",dec)\n",
    "    return x_new\n",
    "    "
   ]
  },
  {
   "cell_type": "code",
   "execution_count": 19,
   "id": "fe08207c-e609-4c52-9674-5436a0e87f65",
   "metadata": {},
   "outputs": [],
   "source": [
    "#convert text data in list\n",
    "x=list(x)"
   ]
  },
  {
   "cell_type": "code",
   "execution_count": 20,
   "id": "84cb17d2-e7df-432c-9588-310513072c63",
   "metadata": {},
   "outputs": [],
   "source": [
    "# clean text using map function\n",
    "lis=list(map(clean,x))"
   ]
  },
  {
   "cell_type": "markdown",
   "id": "2a39d84c-98bc-4a53-9908-a2e80aedc6b7",
   "metadata": {},
   "source": [
    "# Convert text data into numeric features or Vectiruzation"
   ]
  },
  {
   "cell_type": "code",
   "execution_count": 21,
   "id": "cebd9f48-e997-4190-bfb4-e03ae06a137a",
   "metadata": {},
   "outputs": [],
   "source": [
    "# Convert text data into numeric features or Vectiruzation\n",
    "\n",
    "tv=TfidfVectorizer()\n",
    "xx=tv.fit_transform(lis).toarray()"
   ]
  },
  {
   "cell_type": "markdown",
   "id": "f562219d-4463-4c7f-abd0-ce05fc222476",
   "metadata": {},
   "source": [
    "# to make balance dataset"
   ]
  },
  {
   "cell_type": "code",
   "execution_count": 22,
   "id": "e6f431d1-b008-4e60-8d39-35a16c539279",
   "metadata": {},
   "outputs": [],
   "source": [
    "# to make balance dataset\n",
    "sm=SMOTE()\n",
    "x_mm,y_new=sm.fit_resample(xx,y)"
   ]
  },
  {
   "cell_type": "code",
   "execution_count": 23,
   "id": "a3599a4f-42cf-489f-aa83-149920690280",
   "metadata": {},
   "outputs": [
    {
     "data": {
      "text/plain": [
       "5640"
      ]
     },
     "execution_count": 23,
     "metadata": {},
     "output_type": "execute_result"
    }
   ],
   "source": [
    "# len  of the sample ,x\n",
    "len(x_mm)"
   ]
  },
  {
   "cell_type": "code",
   "execution_count": 24,
   "id": "8505c135-7c25-4182-9413-dba753aa84d5",
   "metadata": {},
   "outputs": [
    {
     "data": {
      "text/plain": [
       "5640"
      ]
     },
     "execution_count": 24,
     "metadata": {},
     "output_type": "execute_result"
    }
   ],
   "source": [
    "#len of the sample ,y\n",
    "len(y_new)"
   ]
  },
  {
   "cell_type": "markdown",
   "id": "cd1d27bb-b176-4cf3-8a46-5a359d6f6004",
   "metadata": {},
   "source": [
    "# Untrained model of Logistic regression"
   ]
  },
  {
   "cell_type": "code",
   "execution_count": 25,
   "id": "73df2faf-78b9-4c80-bbef-5c07e7f3f3ee",
   "metadata": {},
   "outputs": [],
   "source": [
    "# Untrained model of Logistic regression\n",
    "model=LogisticRegression(max_iter=150)"
   ]
  },
  {
   "cell_type": "markdown",
   "id": "ca26fb5e-d500-4cf4-9515-415a7aee9fbd",
   "metadata": {},
   "source": [
    "# Trained the model Logistic Regression"
   ]
  },
  {
   "cell_type": "code",
   "execution_count": 26,
   "id": "93129fff-9d65-4f92-8b83-2c454d20e8b2",
   "metadata": {},
   "outputs": [
    {
     "data": {
      "text/plain": [
       "LogisticRegression(max_iter=150)"
      ]
     },
     "execution_count": 26,
     "metadata": {},
     "output_type": "execute_result"
    }
   ],
   "source": [
    "# Trained the model\n",
    "model.fit(x_mm,y_new)"
   ]
  },
  {
   "cell_type": "markdown",
   "id": "bbee2dd4-f40e-4e7e-89c2-e64cfccd6472",
   "metadata": {},
   "source": [
    "# accuracy score of training data"
   ]
  },
  {
   "cell_type": "code",
   "execution_count": 27,
   "id": "629fad9e-4be2-4d63-8b84-7175ca453828",
   "metadata": {},
   "outputs": [
    {
     "data": {
      "text/plain": [
       "0.9526666666666667"
      ]
     },
     "execution_count": 27,
     "metadata": {},
     "output_type": "execute_result"
    }
   ],
   "source": [
    "# accuracy score of training data\n",
    "model.score(xx,y)"
   ]
  },
  {
   "cell_type": "markdown",
   "id": "fd59627c-9cd7-487c-a219-0589c751758c",
   "metadata": {},
   "source": [
    "# new sample for prediction by give user input at runtime"
   ]
  },
  {
   "cell_type": "code",
   "execution_count": 50,
   "id": "5eb1760e-a7b2-4517-93e6-5acda2d713ae",
   "metadata": {},
   "outputs": [
    {
     "name": "stdin",
     "output_type": "stream",
     "text": [
      "enter your question hello world\n"
     ]
    },
    {
     "data": {
      "text/plain": [
       "array(['Biology'], dtype=object)"
      ]
     },
     "execution_count": 50,
     "metadata": {},
     "output_type": "execute_result"
    }
   ],
   "source": [
    "ss=input(\"enter your question\")\n",
    "aa=tv.transform([ss]).toarray() \n",
    "#aa=tv.transform([SS]).toarray() \n",
    "# prediction of the user sample\n",
    "\n",
    "model.predict(aa)"
   ]
  },
  {
   "cell_type": "markdown",
   "id": "70a48f32-1661-4813-94d9-f5951cafa2ee",
   "metadata": {},
   "source": [
    "# prediction of the user sample"
   ]
  },
  {
   "cell_type": "code",
   "execution_count": 30,
   "id": "82f8bc0e-4e8e-4aad-9a01-a3fb02709df5",
   "metadata": {},
   "outputs": [
    {
     "data": {
      "text/plain": [
       "array(['Physics'], dtype=object)"
      ]
     },
     "execution_count": 30,
     "metadata": {},
     "output_type": "execute_result"
    }
   ],
   "source": [
    "# prediction of the user sample\n",
    "model.predict(aa)"
   ]
  },
  {
   "cell_type": "markdown",
   "id": "f3277efc-a921-4347-8416-d26186221246",
   "metadata": {},
   "source": [
    " # End of the code"
   ]
  },
  {
   "cell_type": "code",
   "execution_count": null,
   "id": "a89d3de2-9664-4223-9384-16b9060ab649",
   "metadata": {},
   "outputs": [],
   "source": []
  }
 ],
 "metadata": {
  "kernelspec": {
   "display_name": "Python 3 (ipykernel)",
   "language": "python",
   "name": "python3"
  },
  "language_info": {
   "codemirror_mode": {
    "name": "ipython",
    "version": 3
   },
   "file_extension": ".py",
   "mimetype": "text/x-python",
   "name": "python",
   "nbconvert_exporter": "python",
   "pygments_lexer": "ipython3",
   "version": "3.9.12"
  }
 },
 "nbformat": 4,
 "nbformat_minor": 5
}
